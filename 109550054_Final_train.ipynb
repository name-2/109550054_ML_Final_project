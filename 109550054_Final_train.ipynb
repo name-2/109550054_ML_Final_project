{
 "cells": [
  {
   "cell_type": "code",
   "execution_count": 463,
   "outputs": [],
   "source": [
    "from tqdm import tqdm\n",
    "import pandas as pd\n",
    "import pickle\n",
    "\n",
    "from sklearn.linear_model import LogisticRegression\n",
    "from sklearn.model_selection import StratifiedKFold\n",
    "from sklearn.impute import KNNImputer\n",
    "from sklearn.preprocessing import StandardScaler\n",
    "from sklearn.metrics import roc_auc_score\n",
    "from sklearn.preprocessing import LabelEncoder\n",
    "\n",
    "from feature_engine.encoding import WoEEncoder\n",
    "\n",
    "import warnings\n",
    "\n",
    "warnings.filterwarnings('ignore')"
   ],
   "metadata": {
    "collapsed": false,
    "pycharm": {
     "name": "#%%\n"
    }
   }
  },
  {
   "cell_type": "code",
   "execution_count": 464,
   "outputs": [],
   "source": [
    "train = pd.read_csv('data/train.csv')\n",
    "label = train['failure']"
   ],
   "metadata": {
    "collapsed": false,
    "pycharm": {
     "name": "#%%\n"
    }
   }
  },
  {
   "cell_type": "code",
   "execution_count": 465,
   "outputs": [
    {
     "name": "stdout",
     "output_type": "stream",
     "text": [
      "product_code 2    5765\n",
      "4    5343\n",
      "1    5250\n",
      "3    5112\n",
      "0    5100\n",
      "Name: product_code, dtype: int64\n",
      "attribute_0 1    21320\n",
      "0     5250\n",
      "Name: attribute_0, dtype: int64\n",
      "attribute_1 2    10865\n",
      "0    10362\n",
      "1     5343\n",
      "Name: attribute_1, dtype: int64\n"
     ]
    }
   ],
   "source": [
    "#encode not digit column\n",
    "labelencoder = LabelEncoder()\n",
    "col_encode = ['product_code', 'attribute_0', 'attribute_1']\n",
    "for col in col_encode:\n",
    "    train[col] = labelencoder.fit_transform(train[col])\n",
    "    print(col, train[col].value_counts())"
   ],
   "metadata": {
    "collapsed": false,
    "pycharm": {
     "name": "#%%\n"
    }
   }
  },
  {
   "cell_type": "code",
   "execution_count": 466,
   "outputs": [],
   "source": [
    "#use feature 'product_code' to split data\n",
    "train_product_code = []\n",
    "for code in train.product_code.unique():\n",
    "    cur_data = train.loc[train.product_code == code]\n",
    "    train_product_code.append(cur_data)"
   ],
   "metadata": {
    "collapsed": false,
    "pycharm": {
     "name": "#%%\n"
    }
   }
  },
  {
   "cell_type": "code",
   "execution_count": 467,
   "outputs": [
    {
     "name": "stderr",
     "output_type": "stream",
     "text": [
      "100%|██████████| 16/16 [00:01<00:00, 11.18it/s]\n",
      "100%|██████████| 16/16 [00:02<00:00,  7.71it/s]\n",
      "100%|██████████| 16/16 [00:02<00:00,  7.68it/s]\n",
      "100%|██████████| 16/16 [00:01<00:00, 10.89it/s]\n",
      "100%|██████████| 16/16 [00:02<00:00,  7.39it/s]\n"
     ]
    }
   ],
   "source": [
    "# every feature select 10 higher correlation to use KNN imputer\n",
    "i = 0\n",
    "for d in train_product_code:\n",
    "    index = i\n",
    "    i += 1\n",
    "    corr = d.drop(['id', 'failure', 'product_code'], axis=1).corr()\n",
    "    cols_with_nan = d.columns[train.isnull().any()].tolist()\n",
    "    for col in tqdm(cols_with_nan):\n",
    "        cur_corr = corr[col]\n",
    "        sorted_corrs = cur_corr.sort_values(kind=\"quicksort\")\n",
    "        largest_corr = sorted_corrs.abs().tail(11).tolist()\n",
    "        largest_corr_index = sorted_corrs.abs().tail(11).index.tolist()\n",
    "        cur_data = d.loc[:, largest_corr_index]\n",
    "        imputer = KNNImputer(n_neighbors=100)\n",
    "        train.loc[train.product_code == index, largest_corr_index] = imputer.fit_transform(\n",
    "            train.loc[train.product_code == index, largest_corr_index])"
   ],
   "metadata": {
    "collapsed": false,
    "pycharm": {
     "name": "#%%\n"
    }
   }
  },
  {
   "cell_type": "code",
   "execution_count": 468,
   "outputs": [],
   "source": [
    "woe_encoder = WoEEncoder(variables=['attribute_0'])\n",
    "woe_encoder.fit(train.drop('failure', axis=1).astype(\"object\"), label)\n",
    "tr = woe_encoder.transform(train.drop('failure', axis=1))\n",
    "train.loc[:, tr.columns] = tr\n",
    "pickle.dump(woe_encoder, open('pickle_model/woe.pkl', 'wb'))"
   ],
   "metadata": {
    "collapsed": false,
    "pycharm": {
     "name": "#%%\n"
    }
   }
  },
  {
   "cell_type": "code",
   "execution_count": 469,
   "outputs": [
    {
     "name": "stdout",
     "output_type": "stream",
     "text": [
      "['measurement_17', 'loading']\n"
     ]
    }
   ],
   "source": [
    "#select 2 features which is higher correlation to failure\n",
    "select_n = 2\n",
    "train_corr = train.corr()\n",
    "failure_corr = train_corr['failure']\n",
    "sorted_corrs = failure_corr.sort_values(kind=\"quicksort\")\n",
    "select_feature = sorted_corrs.drop('failure', axis=0).abs().tail(select_n).index.tolist()\n",
    "print(select_feature)"
   ],
   "metadata": {
    "collapsed": false,
    "pycharm": {
     "name": "#%%\n"
    }
   }
  },
  {
   "cell_type": "code",
   "execution_count": 470,
   "outputs": [],
   "source": [
    "#add attribute_0 to select_feature\n",
    "if 'attribute_0' not in select_feature:\n",
    "    select_feature.append(\"attribute_0\")\n",
    "pickle.dump(select_feature, open('pickle_model/select_feature.pkl', 'wb'))"
   ],
   "metadata": {
    "collapsed": false,
    "pycharm": {
     "name": "#%%\n"
    }
   }
  },
  {
   "cell_type": "code",
   "execution_count": 471,
   "outputs": [
    {
     "name": "stdout",
     "output_type": "stream",
     "text": [
      "0.60124\n",
      "0.59256\n",
      "0.58057\n",
      "0.59377\n",
      "0.58534\n"
     ]
    }
   ],
   "source": [
    "#scaler the data and train LR model\n",
    "scaler = StandardScaler()\n",
    "model = LogisticRegression(max_iter=500, C=0.00001, penalty='l2', solver='newton-cg')\n",
    "kfold = StratifiedKFold(n_splits=5, shuffle=True, random_state=0)\n",
    "for train_idx, val_idx in kfold.split(train, label):\n",
    "    x_train, x_val = train.iloc[train_idx], train.iloc[val_idx]\n",
    "    y_train, y_val = label.iloc[train_idx], label.iloc[val_idx]\n",
    "    x_train = scaler.fit_transform(x_train[select_feature])\n",
    "    x_val = scaler.transform(x_val[select_feature])\n",
    "    x_train = pd.DataFrame(x_train, columns=select_feature)\n",
    "    x_val = pd.DataFrame(x_val, columns=select_feature)\n",
    "\n",
    "    model.fit(x_train[select_feature], y_train)\n",
    "    val_preds = model.predict_proba(x_val[select_feature])[:, 1]\n",
    "    print(round(roc_auc_score(y_val, val_preds), 5))\n",
    "pickle.dump(model, open('pickle_model/LR.pkl', 'wb'))\n",
    "pickle.dump(scaler, open('pickle_model/scaler.pkl', 'wb'))"
   ],
   "metadata": {
    "collapsed": false,
    "pycharm": {
     "name": "#%%\n"
    }
   }
  },
  {
   "cell_type": "code",
   "execution_count": 471,
   "outputs": [],
   "source": [],
   "metadata": {
    "collapsed": false,
    "pycharm": {
     "name": "#%%\n"
    }
   }
  }
 ],
 "metadata": {
  "kernelspec": {
   "display_name": "Python 3",
   "language": "python",
   "name": "python3"
  },
  "language_info": {
   "codemirror_mode": {
    "name": "ipython",
    "version": 2
   },
   "file_extension": ".py",
   "mimetype": "text/x-python",
   "name": "python",
   "nbconvert_exporter": "python",
   "pygments_lexer": "ipython2",
   "version": "2.7.6"
  }
 },
 "nbformat": 4,
 "nbformat_minor": 0
}