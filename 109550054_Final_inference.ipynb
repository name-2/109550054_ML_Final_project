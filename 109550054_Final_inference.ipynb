{
 "cells": [
  {
   "cell_type": "code",
   "execution_count": 176,
   "metadata": {
    "collapsed": true
   },
   "outputs": [],
   "source": [
    "import pickle\n",
    "import warnings\n",
    "\n",
    "import pandas as pd\n",
    "from sklearn.impute import KNNImputer\n",
    "from sklearn.preprocessing import LabelEncoder\n",
    "from tqdm import tqdm\n",
    "\n",
    "warnings.filterwarnings('ignore')"
   ]
  },
  {
   "cell_type": "code",
   "execution_count": 177,
   "outputs": [],
   "source": [
    "test = pd.read_csv('data/test.csv')"
   ],
   "metadata": {
    "collapsed": false,
    "pycharm": {
     "name": "#%%\n"
    }
   }
  },
  {
   "cell_type": "code",
   "execution_count": 178,
   "outputs": [
    {
     "name": "stdout",
     "output_type": "stream",
     "text": [
      "product_code 0    5422\n",
      "3    5228\n",
      "1    5107\n",
      "2    5018\n",
      "Name: product_code, dtype: int64\n",
      "attribute_0 0    10529\n",
      "1    10246\n",
      "Name: attribute_0, dtype: int64\n",
      "attribute_1 1    10529\n",
      "0     5228\n",
      "2     5018\n",
      "Name: attribute_1, dtype: int64\n"
     ]
    }
   ],
   "source": [
    "labelencoder = LabelEncoder()\n",
    "col_encode = ['product_code', 'attribute_0', 'attribute_1']\n",
    "for col in col_encode:\n",
    "    test[col] = labelencoder.fit_transform(test[col])\n",
    "    print(col, test[col].value_counts())"
   ],
   "metadata": {
    "collapsed": false,
    "pycharm": {
     "name": "#%%\n"
    }
   }
  },
  {
   "cell_type": "code",
   "execution_count": 179,
   "outputs": [],
   "source": [
    "test_product_code = []\n",
    "for code in test.product_code.unique():\n",
    "    cur_data = test.loc[test.product_code == code]\n",
    "    test_product_code.append(cur_data)"
   ],
   "metadata": {
    "collapsed": false,
    "pycharm": {
     "name": "#%%\n"
    }
   }
  },
  {
   "cell_type": "code",
   "execution_count": 180,
   "outputs": [
    {
     "name": "stderr",
     "output_type": "stream",
     "text": [
      "100%|██████████| 16/16 [00:02<00:00,  7.32it/s]\n",
      "100%|██████████| 16/16 [00:01<00:00, 12.36it/s]\n",
      "100%|██████████| 16/16 [00:01<00:00,  8.12it/s]\n",
      "100%|██████████| 16/16 [00:01<00:00, 11.70it/s]\n"
     ]
    }
   ],
   "source": [
    "# KNN imputer\n",
    "i = 0\n",
    "for d in test_product_code:\n",
    "    index = i\n",
    "    i += 1\n",
    "    corr = d.drop(['id', 'product_code'], axis=1).corr()\n",
    "    cols_with_nan = d.columns[test.isnull().any()].tolist()\n",
    "    for col in tqdm(cols_with_nan):\n",
    "        cur_corr = corr[col]\n",
    "        sorted_corrs = cur_corr.sort_values(kind=\"quicksort\")\n",
    "        largest_corr = sorted_corrs.abs().tail(11).tolist()\n",
    "        largest_corr_index = sorted_corrs.abs().tail(11).index.tolist()\n",
    "        cur_data = d.loc[:, largest_corr_index]\n",
    "        imputer = KNNImputer(n_neighbors=50)\n",
    "        test.loc[test.product_code == index, largest_corr_index] = imputer.fit_transform(\n",
    "            test.loc[test.product_code == index, largest_corr_index])"
   ],
   "metadata": {
    "collapsed": false,
    "pycharm": {
     "name": "#%%\n"
    }
   }
  },
  {
   "cell_type": "code",
   "execution_count": 188,
   "outputs": [],
   "source": [
    "select_feature = pickle.load(open('pickle_model/select_feature.pkl', 'rb'))\n",
    "scaler = pickle.load(open('pickle_model/scaler.pkl', 'rb'))\n",
    "model = pickle.load(open('pickle_model/LR.pkl', 'rb'))\n",
    "x_test = scaler.transform(test[select_feature])\n",
    "x_test = pd.DataFrame(x_test, columns=select_feature)\n",
    "test_pred = model.predict_proba(x_test[select_feature])[:, 1]"
   ],
   "metadata": {
    "collapsed": false,
    "pycharm": {
     "name": "#%%\n"
    }
   }
  },
  {
   "cell_type": "code",
   "execution_count": 189,
   "outputs": [],
   "source": [
    "sub = pd.DataFrame({'id': test.id, 'failure': test_pred})\n",
    "sub.to_csv(\"109550054_Final_submission.csv\", index=False)"
   ],
   "metadata": {
    "collapsed": false,
    "pycharm": {
     "name": "#%%\n"
    }
   }
  },
  {
   "cell_type": "code",
   "execution_count": 190,
   "outputs": [
    {
     "data": {
      "text/plain": "          id   failure\n20770  47340  0.213468\n20771  47341  0.209817\n20772  47342  0.210146\n20773  47343  0.212769\n20774  47344  0.210490",
      "text/html": "<div>\n<style scoped>\n    .dataframe tbody tr th:only-of-type {\n        vertical-align: middle;\n    }\n\n    .dataframe tbody tr th {\n        vertical-align: top;\n    }\n\n    .dataframe thead th {\n        text-align: right;\n    }\n</style>\n<table border=\"1\" class=\"dataframe\">\n  <thead>\n    <tr style=\"text-align: right;\">\n      <th></th>\n      <th>id</th>\n      <th>failure</th>\n    </tr>\n  </thead>\n  <tbody>\n    <tr>\n      <th>20770</th>\n      <td>47340</td>\n      <td>0.213468</td>\n    </tr>\n    <tr>\n      <th>20771</th>\n      <td>47341</td>\n      <td>0.209817</td>\n    </tr>\n    <tr>\n      <th>20772</th>\n      <td>47342</td>\n      <td>0.210146</td>\n    </tr>\n    <tr>\n      <th>20773</th>\n      <td>47343</td>\n      <td>0.212769</td>\n    </tr>\n    <tr>\n      <th>20774</th>\n      <td>47344</td>\n      <td>0.210490</td>\n    </tr>\n  </tbody>\n</table>\n</div>"
     },
     "execution_count": 190,
     "metadata": {},
     "output_type": "execute_result"
    }
   ],
   "source": [
    "sub.tail()"
   ],
   "metadata": {
    "collapsed": false,
    "pycharm": {
     "name": "#%%\n"
    }
   }
  },
  {
   "cell_type": "code",
   "execution_count": 184,
   "outputs": [],
   "source": [],
   "metadata": {
    "collapsed": false,
    "pycharm": {
     "name": "#%%\n"
    }
   }
  }
 ],
 "metadata": {
  "kernelspec": {
   "display_name": "Python 3",
   "language": "python",
   "name": "python3"
  },
  "language_info": {
   "codemirror_mode": {
    "name": "ipython",
    "version": 2
   },
   "file_extension": ".py",
   "mimetype": "text/x-python",
   "name": "python",
   "nbconvert_exporter": "python",
   "pygments_lexer": "ipython2",
   "version": "2.7.6"
  }
 },
 "nbformat": 4,
 "nbformat_minor": 0
}